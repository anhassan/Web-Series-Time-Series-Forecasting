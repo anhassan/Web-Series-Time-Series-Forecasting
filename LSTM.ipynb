{
 "cells": [
  {
   "cell_type": "code",
   "execution_count": 9,
   "metadata": {
    "colab": {
     "base_uri": "https://localhost:8080/",
     "height": 75,
     "resources": {
      "http://localhost:8080/nbextensions/google.colab/files.js": {
       "data": "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",
       "headers": [
        [
         "content-type",
         "application/javascript"
        ]
       ],
       "ok": true,
       "status": 200,
       "status_text": ""
      }
     }
    },
    "colab_type": "code",
    "id": "TFlDb5Zf9g9X",
    "outputId": "4cb3d3e1-c13b-4dbf-ecf0-16a6181d8876"
   },
   "outputs": [
    {
     "data": {
      "text/html": [
       "\n",
       "     <input type=\"file\" id=\"files-347a58d5-d7be-47b2-977c-d5beeb794606\" name=\"files[]\" multiple disabled />\n",
       "     <output id=\"result-347a58d5-d7be-47b2-977c-d5beeb794606\">\n",
       "      Upload widget is only available when the cell has been executed in the\n",
       "      current browser session. Please rerun this cell to enable.\n",
       "      </output>\n",
       "      <script src=\"/nbextensions/google.colab/files.js\"></script> "
      ],
      "text/plain": [
       "<IPython.core.display.HTML object>"
      ]
     },
     "metadata": {
      "tags": []
     },
     "output_type": "display_data"
    },
    {
     "name": "stdout",
     "output_type": "stream",
     "text": [
      "Saving train_1.csv to train_1.csv\n"
     ]
    }
   ],
   "source": [
    "from google.colab import files\n",
    "uploaded = files.upload()"
   ]
  },
  {
   "cell_type": "code",
   "execution_count": 86,
   "metadata": {
    "colab": {
     "base_uri": "https://localhost:8080/",
     "height": 121
    },
    "colab_type": "code",
    "id": "m2qVHLXB-cq-",
    "outputId": "75522a0d-e779-4aca-e111-aeba60865b11"
   },
   "outputs": [
    {
     "name": "stdout",
     "output_type": "stream",
     "text": [
      "<class 'pandas.core.frame.DataFrame'>\n",
      "RangeIndex: 145063 entries, 0 to 145062\n",
      "Columns: 551 entries, Page to 2016-12-31\n",
      "dtypes: float64(550), object(1)\n",
      "memory usage: 609.8+ MB\n",
      "done\n"
     ]
    }
   ],
   "source": [
    "import pandas as pd\n",
    "import numpy as np\n",
    "import pylab as p\n",
    "import matplotlib.pyplot as plot\n",
    "from collections import Counter\n",
    "import re\n",
    "\n",
    "data=pd.read_csv (\"train_1.csv\")\n",
    "\n",
    "data.info()\n",
    "data.describe()\n",
    "n=data.isnull().sum()\n",
    "data_no_null=data.fillna(0)\n",
    "#print(data_no_null.head())\n",
    "print(\"done\")"
   ]
  },
  {
   "cell_type": "code",
   "execution_count": 87,
   "metadata": {
    "colab": {
     "base_uri": "https://localhost:8080/",
     "height": 35
    },
    "colab_type": "code",
    "id": "l19wAdrv-c4D",
    "outputId": "4b9e1771-c425-4929-ed91-85d4c43eab67"
   },
   "outputs": [
    {
     "name": "stdout",
     "output_type": "stream",
     "text": [
      "done\n"
     ]
    }
   ],
   "source": [
    "import re\n",
    "def language_abb(page): \n",
    "    res = re.search('[a-z][a-z].wikipedia.org',page) \n",
    "    if res: \n",
    "        return res.group(0)[0:2] \n",
    "    return 'na'\n",
    "\n",
    "data['lang'] = data.Page.map(language_abb)\n",
    "data[\"lang\"]= data[\"lang\"].replace([\"en\",\"ja\",'de','na','fr','zh','ru','es'], [\"English\",\"Japanese\",'German','WikiMedia','French','Chinese','Russian','Spanish'])\n",
    "\n",
    "lang_count=data['lang'].value_counts()\n",
    "\n",
    "lang_count\n",
    "\n",
    "print(\"done\")"
   ]
  },
  {
   "cell_type": "code",
   "execution_count": 0,
   "metadata": {
    "colab": {},
    "colab_type": "code",
    "id": "wuxCxW6J-dAz"
   },
   "outputs": [],
   "source": [
    "# Grouping dataframe langauge wise\n",
    "name=[\"en\",\"ja\",'de','na','fr','zh','ru','es']\n",
    "full_name=[\"English\",\"Japanese\",'German','WikiMedia','French','Chinese','Russian','Spanish']\n",
    "lang_sets={}\n",
    "for x in range(0,8):\n",
    "    lang_sets[name[x]] = data[data.lang==full_name[x]].iloc[:,0:-1]\n",
    "# Removing the page names\n",
    "for index in lang_sets:\n",
    "    lang_sets[index]=lang_sets[index].drop(columns=['Page'])"
   ]
  },
  {
   "cell_type": "code",
   "execution_count": 0,
   "metadata": {
    "colab": {},
    "colab_type": "code",
    "id": "SSOVdmWo-dO5"
   },
   "outputs": [],
   "source": [
    "null_num={}\n",
    "t_sum={}\n",
    "mean={}\n",
    "meanperDay={}\n",
    "\n",
    "\n",
    "for index in lang_sets:\n",
    "    null_num[index]=lang_sets[index].isnull().sum()\n",
    "    t_sum[index]=null_num[index].sum(axis=0)/550\n",
    "    mean[index]=lang_sets[index].mean().mean()"
   ]
  },
  {
   "cell_type": "code",
   "execution_count": 0,
   "metadata": {
    "colab": {},
    "colab_type": "code",
    "id": "bLzYr9OM-zB0"
   },
   "outputs": [],
   "source": [
    "# Dealing with Null Values\n",
    "for index in lang_sets:\n",
    "    lang_sets[index]=lang_sets[index].fillna(0)\n",
    "                                             \n",
    "# Summing for different langues/ reshaping the input data\n",
    "sum_col ={}\n",
    "\n",
    "for index in lang_sets:\n",
    "    sum_col[index]=lang_sets[index].sum(axis=0) / lang_sets[index].shape[0]"
   ]
  },
  {
   "cell_type": "code",
   "execution_count": 92,
   "metadata": {
    "colab": {
     "base_uri": "https://localhost:8080/",
     "height": 121
    },
    "colab_type": "code",
    "id": "Th1PVz0v-zbP",
    "outputId": "99a2e561-b8b8-400e-87c1-c41a7f4a8231"
   },
   "outputs": [
    {
     "name": "stdout",
     "output_type": "stream",
     "text": [
      "         Date         Hits\n",
      "0  2015-07-01  3513.862203\n",
      "1  2015-07-02  3502.511407\n",
      "2  2015-07-03  3325.357889\n",
      "3  2015-07-04  3462.054256\n",
      "4  2015-07-05  3575.520035\n"
     ]
    }
   ],
   "source": [
    "# Extracting data according to the language given in the input\n",
    "\n",
    "import math as math\n",
    "\n",
    "def extract_language(df):\n",
    "    #size = int(len(df)-50)\n",
    "    #train_ds, test_ds = df[0:size], df[size:len(df)]\n",
    "    df_train = pd.DataFrame({ 'Date':(df.index),'Hits': (df.values)})\n",
    "    #df_test = pd.DataFrame({ 'Date':(test_ds.index),'Hits': (test_ds.values)})\n",
    "    \n",
    "    \n",
    "    return df_train\n",
    "\n",
    "X_train = extract_language(sum_col[\"en\"])# Change this one by on\n",
    "\n",
    "#print(\"The training set sample:\")\n",
    "print(X_train.head())\n",
    "#print(\"The validation set sample:\")\n",
    "#print(y_train.head())"
   ]
  },
  {
   "cell_type": "code",
   "execution_count": 0,
   "metadata": {
    "colab": {},
    "colab_type": "code",
    "id": "cG7X1KGm-ztM"
   },
   "outputs": [],
   "source": [
    "def timeseries_to_supervised(data, lag=1):\n",
    "\tdf = pd.DataFrame(data)\n",
    "\tcolumns = [df.shift(i) for i in range(1, lag+1)]\n",
    "\tcolumns.append(df)\n",
    "\tdf = pd.concat(columns, axis=1)\n",
    "\tdf.fillna(0, inplace=True)\n",
    "\treturn df\n"
   ]
  },
  {
   "cell_type": "code",
   "execution_count": 191,
   "metadata": {
    "colab": {
     "base_uri": "https://localhost:8080/",
     "height": 35
    },
    "colab_type": "code",
    "id": "KjoN8l84--Vi",
    "outputId": "73bcd439-d261-4f55-9a57-d4caef641358"
   },
   "outputs": [
    {
     "name": "stdout",
     "output_type": "stream",
     "text": [
      "done\n"
     ]
    }
   ],
   "source": [
    "def fit_lstm(X_train,y_train,batch_size, nb_epoch, neurons):\n",
    "\t#X, y = train[:, 0:-1], train[:, -1]\n",
    "\n",
    "  n=2\n",
    "  func =  'softmax'\n",
    "  X_train = X_train.reshape(X_train.shape[0],1,X_train.shape[1])\n",
    "  model = Sequential()\n",
    "  model.add(LSTM(neurons, batch_input_shape=(batch_size, X_train.shape[1], X_train.shape[2]), stateful=True))\n",
    "  model.add(Dense(n,activation=func))\n",
    "  model.add(Dense(n,activation=func))\n",
    "  model.add(Dense(n,activation=func))\n",
    "  model.add(Dense(n,activation=func))\n",
    "\n",
    "\n",
    "  model.add(Dense(1))\n",
    "  model.compile(loss='mean_squared_error',optimizer = 'adam')\n",
    "  for i in range(nb_epoch):\n",
    "    print(\"nb_epochs = \",i)\n",
    "    model.fit(X_train,y_train,epochs=1,batch_size = batch_size , verbose =0,shuffle=False)\n",
    "    model.reset_states()\n",
    "\n",
    "  return model  \n",
    "print(\"done\")"
   ]
  },
  {
   "cell_type": "code",
   "execution_count": 95,
   "metadata": {
    "colab": {
     "base_uri": "https://localhost:8080/",
     "height": 35
    },
    "colab_type": "code",
    "id": "9R2n27my--eU",
    "outputId": "a08d023c-d301-41b9-e8a6-8313df8d3c6d"
   },
   "outputs": [
    {
     "name": "stdout",
     "output_type": "stream",
     "text": [
      "done\n"
     ]
    }
   ],
   "source": [
    "#scaler = MinMaxScaler(feature_range=(-1, 1))\n",
    "def scaling_windowing(df_train,window_size):\n",
    "  from sklearn.preprocessing import StandardScaler,MinMaxScaler  \n",
    "  scaler = MinMaxScaler(feature_range=(-1, 1))\n",
    "  df_supervised = timeseries_to_supervised(df_train['Hits'].values,window_size)\n",
    "  train_data = df_supervised[0:500].values\n",
    "  test_data = df_supervised[500:550].values\n",
    "  print(df_supervised.shape)\n",
    "\n",
    "  train_data_scaled = scaler.fit_transform(train_data)  \n",
    "  test_data_scaled = scaler.fit_transform(test_data)\n",
    "  X_train,y_train = train_data_scaled[:,0:window_size] , train_data_scaled[:,window_size: window_size+1]\n",
    "  X_test,y_test = test_data_scaled[:,0:window_size] , test_data_scaled[:,window_size:window_size+1]\n",
    " \n",
    "  print(\"X_train.shape = \", X_train.shape)\n",
    "  print(\"y_train.shape = \", y_train.shape)\n",
    "\n",
    "  print(\"X_test.shape = \",X_test.shape)\n",
    "  print(\"y_test.shape = \",y_test.shape)\n",
    "\n",
    "\n",
    "  print(\"shape = \",df_supervised)\n",
    "  return [X_train,y_train,X_test,y_test,train_data,test_data,scaler]\n",
    "\n",
    "print(\"done\")"
   ]
  },
  {
   "cell_type": "code",
   "execution_count": 0,
   "metadata": {
    "colab": {},
    "colab_type": "code",
    "id": "V7UfIOv0--_A"
   },
   "outputs": [],
   "source": [
    "\n",
    "import numpy as np\n",
    "\n",
    "def forecast_lstm(model, batch_size, X):\n",
    "\tX = X.reshape(1, 1, len(X))\n",
    "\tyhat = model.predict(X, batch_size=batch_size)\n",
    "\treturn yhat[0,0]\n",
    "\n",
    "\n",
    "\n",
    "\n",
    "def invert_scale(scaler,X,value):\n",
    "  new_row = [x for x in X] + [value]\n",
    "  array = np.array(new_row)\n",
    "  array = array.reshape(1,len(array))\n",
    "  print(\"array.shape  = \",array.shape)\n",
    "  inverted = scaler.inverse_transform(array)\n",
    "  return inverted[0,-1]\n",
    "\n",
    "\n",
    "\n",
    "  \n",
    "def prediction(lstm_model,X_test,scaler):\n",
    "  predictions = []\n",
    "  for i in range(len(X_test)):\n",
    "      X = X_test[i,:] \n",
    "      y_knot = forecast_lstm(lstm_model,1,X)\n",
    "      y_pred = invert_scale(scaler,X,y_knot)\n",
    "      predictions.append(y_pred)\n",
    "  return predictions\n",
    "  \n"
   ]
  },
  {
   "cell_type": "code",
   "execution_count": 0,
   "metadata": {
    "colab": {},
    "colab_type": "code",
    "id": "ja_761B2-dOF"
   },
   "outputs": [],
   "source": [
    "\n",
    "def plot_graphs(y_pred,y_actual):\n",
    "  import matplotlib.pyplot as plt\n",
    "  y_actual = list(y_actual)\n",
    "  plt.figure(figsize=(8, 6))\n",
    "  time = [x for x in range(0,len(y_actual))]\n",
    "  labels={'Orginal','Predicted'}\n",
    "  plt.plot(time, y_actual, color= 'green')\n",
    "  plt.plot(time,y_pred, color = 'orange')\n",
    "  plt.title('Actual Vs Forecast- LSTM')\n",
    "  plt.xlabel('Days')\n",
    "  plt.ylabel('Hits')\n",
    "  plt.legend(labels)\n",
    "  plt.show()\n",
    "  \n",
    "def print_side_by_side(y_pred,y_actual):\n",
    "    for i in range(0,len(y_pred)):\n",
    "      print(y_pred[i], \" , \", y_actual[i])"
   ]
  },
  {
   "cell_type": "code",
   "execution_count": 0,
   "metadata": {
    "colab": {},
    "colab_type": "code",
    "id": "nFkCum9UB08z"
   },
   "outputs": [],
   "source": [
    "error_rmse=[]\n",
    "error_log_mse=[]\n",
    "error_pd=[]"
   ]
  },
  {
   "cell_type": "code",
   "execution_count": 192,
   "metadata": {
    "colab": {
     "base_uri": "https://localhost:8080/",
     "height": 6955
    },
    "colab_type": "code",
    "id": "9oQo9_tF_JUY",
    "outputId": "188eeb25-1f17-49bc-8049-3da5a18bf796"
   },
   "outputs": [
    {
     "name": "stdout",
     "output_type": "stream",
     "text": [
      "df_train =           Date        Hits\n",
      "0  2015-07-01  580.647056\n",
      "1  2015-07-02  666.672801\n",
      "2  2015-07-03  602.289805\n",
      "3  2015-07-04  756.509177\n",
      "4  2015-07-05  725.720914\n",
      "(550, 5)\n",
      "X_train.shape =  (500, 4)\n",
      "y_train.shape =  (500, 1)\n",
      "X_test.shape =  (50, 4)\n",
      "y_test.shape =  (50, 1)\n",
      "shape =                0           0           0           0            0\n",
      "0      0.000000    0.000000    0.000000    0.000000   580.647056\n",
      "1    580.647056    0.000000    0.000000    0.000000   666.672801\n",
      "2    666.672801  580.647056    0.000000    0.000000   602.289805\n",
      "3    602.289805  666.672801  580.647056    0.000000   756.509177\n",
      "4    756.509177  602.289805  666.672801  580.647056   725.720914\n",
      "5    725.720914  756.509177  602.289805  666.672801   632.399148\n",
      "6    632.399148  725.720914  756.509177  602.289805   615.184181\n",
      "7    615.184181  632.399148  725.720914  756.509177   611.462337\n",
      "8    611.462337  615.184181  632.399148  725.720914   596.067642\n",
      "9    596.067642  611.462337  615.184181  632.399148   619.299300\n",
      "10   619.299300  596.067642  611.462337  615.184181   639.577211\n",
      "11   639.577211  619.299300  596.067642  611.462337   688.081053\n",
      "12   688.081053  639.577211  619.299300  596.067642   612.605991\n",
      "13   612.605991  688.081053  639.577211  619.299300   573.909500\n",
      "14   573.909500  612.605991  688.081053  639.577211   575.142137\n",
      "15   575.142137  573.909500  612.605991  688.081053   657.954824\n",
      "16   657.954824  575.142137  573.909500  612.605991   787.626939\n",
      "17   787.626939  657.954824  575.142137  573.909500   662.312613\n",
      "18   662.312613  787.626939  657.954824  575.142137   649.458176\n",
      "19   649.458176  662.312613  787.626939  657.954824   649.620723\n",
      "20   649.620723  649.458176  662.312613  787.626939   567.651608\n",
      "21   567.651608  649.620723  649.458176  662.312613   569.571778\n",
      "22   569.571778  567.651608  649.620723  649.458176   541.133082\n",
      "23   541.133082  569.571778  567.651608  649.620723   492.338163\n",
      "24   492.338163  541.133082  569.571778  567.651608   479.860066\n",
      "25   479.860066  492.338163  541.133082  569.571778   513.785277\n",
      "26   513.785277  479.860066  492.338163  541.133082   496.505262\n",
      "27   496.505262  513.785277  479.860066  492.338163   485.329793\n",
      "28   485.329793  496.505262  513.785277  479.860066   528.487152\n",
      "29   528.487152  485.329793  496.505262  513.785277   476.804611\n",
      "..          ...         ...         ...         ...          ...\n",
      "520  796.320102  665.691009  799.962802  704.075669   745.462386\n",
      "521  745.462386  796.320102  665.691009  799.962802   776.732221\n",
      "522  776.732221  745.462386  796.320102  665.691009   856.945720\n",
      "523  856.945720  776.732221  745.462386  796.320102   750.067006\n",
      "524  750.067006  856.945720  776.732221  745.462386   704.604865\n",
      "525  704.604865  750.067006  856.945720  776.732221   866.372033\n",
      "526  866.372033  704.604865  750.067006  856.945720   763.263570\n",
      "527  763.263570  866.372033  704.604865  750.067006   826.187999\n",
      "528  826.187999  763.263570  866.372033  704.604865   798.723802\n",
      "529  798.723802  826.187999  763.263570  866.372033   854.967549\n",
      "530  854.967549  798.723802  826.187999  763.263570   780.440164\n",
      "531  780.440164  854.967549  798.723802  826.187999   746.389115\n",
      "532  746.389115  780.440164  854.967549  798.723802   812.710489\n",
      "533  812.710489  746.389115  780.440164  854.967549   685.129460\n",
      "534  685.129460  812.710489  746.389115  780.440164   674.735206\n",
      "535  674.735206  685.129460  812.710489  746.389115   767.739269\n",
      "536  767.739269  674.735206  685.129460  812.710489   930.329157\n",
      "537  930.329157  767.739269  674.735206  685.129460   782.743625\n",
      "538  782.743625  930.329157  767.739269  674.735206   785.971759\n",
      "539  785.971759  782.743625  930.329157  767.739269   711.985953\n",
      "540  711.985953  785.971759  782.743625  930.329157   675.104792\n",
      "541  675.104792  711.985953  785.971759  782.743625   968.007733\n",
      "542  968.007733  675.104792  711.985953  785.971759   856.605012\n",
      "543  856.605012  968.007733  675.104792  711.985953   818.374725\n",
      "544  818.374725  856.605012  968.007733  675.104792   779.114728\n",
      "545  779.114728  818.374725  856.605012  968.007733   789.158680\n",
      "546  789.158680  779.114728  818.374725  856.605012   790.500465\n",
      "547  790.500465  789.158680  779.114728  818.374725   865.483236\n",
      "548  865.483236  790.500465  789.158680  779.114728   952.018354\n",
      "549  952.018354  865.483236  790.500465  789.158680  1197.239440\n",
      "\n",
      "[550 rows x 5 columns]\n",
      "nb_epochs =  0\n",
      "nb_epochs =  1\n",
      "nb_epochs =  2\n",
      "nb_epochs =  3\n",
      "nb_epochs =  4\n",
      "nb_epochs =  5\n",
      "nb_epochs =  6\n",
      "nb_epochs =  7\n",
      "nb_epochs =  8\n",
      "nb_epochs =  9\n",
      "nb_epochs =  10\n",
      "nb_epochs =  11\n",
      "nb_epochs =  12\n",
      "nb_epochs =  13\n",
      "nb_epochs =  14\n",
      "nb_epochs =  15\n",
      "nb_epochs =  16\n",
      "nb_epochs =  17\n",
      "nb_epochs =  18\n",
      "nb_epochs =  19\n",
      "nb_epochs =  20\n",
      "nb_epochs =  21\n",
      "nb_epochs =  22\n",
      "nb_epochs =  23\n",
      "nb_epochs =  24\n",
      "nb_epochs =  25\n",
      "nb_epochs =  26\n",
      "nb_epochs =  27\n",
      "nb_epochs =  28\n",
      "nb_epochs =  29\n",
      "nb_epochs =  30\n",
      "nb_epochs =  31\n",
      "nb_epochs =  32\n",
      "nb_epochs =  33\n",
      "nb_epochs =  34\n",
      "nb_epochs =  35\n",
      "nb_epochs =  36\n",
      "nb_epochs =  37\n",
      "nb_epochs =  38\n",
      "nb_epochs =  39\n",
      "nb_epochs =  40\n",
      "nb_epochs =  41\n",
      "nb_epochs =  42\n",
      "nb_epochs =  43\n",
      "nb_epochs =  44\n",
      "nb_epochs =  45\n",
      "nb_epochs =  46\n",
      "nb_epochs =  47\n",
      "nb_epochs =  48\n",
      "nb_epochs =  49\n",
      "nb_epochs =  50\n",
      "nb_epochs =  51\n",
      "nb_epochs =  52\n",
      "nb_epochs =  53\n",
      "nb_epochs =  54\n",
      "nb_epochs =  55\n",
      "nb_epochs =  56\n",
      "nb_epochs =  57\n",
      "nb_epochs =  58\n",
      "nb_epochs =  59\n",
      "nb_epochs =  60\n",
      "nb_epochs =  61\n",
      "nb_epochs =  62\n",
      "nb_epochs =  63\n",
      "nb_epochs =  64\n",
      "nb_epochs =  65\n",
      "nb_epochs =  66\n",
      "nb_epochs =  67\n",
      "nb_epochs =  68\n",
      "nb_epochs =  69\n",
      "nb_epochs =  70\n",
      "nb_epochs =  71\n",
      "nb_epochs =  72\n",
      "nb_epochs =  73\n",
      "nb_epochs =  74\n",
      "nb_epochs =  75\n",
      "nb_epochs =  76\n",
      "nb_epochs =  77\n",
      "nb_epochs =  78\n",
      "nb_epochs =  79\n",
      "nb_epochs =  80\n",
      "nb_epochs =  81\n",
      "nb_epochs =  82\n",
      "nb_epochs =  83\n",
      "nb_epochs =  84\n",
      "nb_epochs =  85\n",
      "nb_epochs =  86\n",
      "nb_epochs =  87\n",
      "nb_epochs =  88\n",
      "nb_epochs =  89\n",
      "nb_epochs =  90\n",
      "nb_epochs =  91\n",
      "nb_epochs =  92\n",
      "nb_epochs =  93\n",
      "nb_epochs =  94\n",
      "nb_epochs =  95\n",
      "nb_epochs =  96\n",
      "nb_epochs =  97\n",
      "nb_epochs =  98\n",
      "nb_epochs =  99\n",
      "nb_epochs =  100\n",
      "nb_epochs =  101\n",
      "nb_epochs =  102\n",
      "nb_epochs =  103\n",
      "nb_epochs =  104\n",
      "nb_epochs =  105\n",
      "nb_epochs =  106\n",
      "nb_epochs =  107\n",
      "nb_epochs =  108\n",
      "nb_epochs =  109\n",
      "nb_epochs =  110\n",
      "nb_epochs =  111\n",
      "nb_epochs =  112\n",
      "nb_epochs =  113\n",
      "nb_epochs =  114\n",
      "nb_epochs =  115\n",
      "nb_epochs =  116\n",
      "nb_epochs =  117\n",
      "nb_epochs =  118\n",
      "nb_epochs =  119\n",
      "nb_epochs =  120\n",
      "nb_epochs =  121\n",
      "nb_epochs =  122\n",
      "nb_epochs =  123\n",
      "nb_epochs =  124\n",
      "nb_epochs =  125\n",
      "nb_epochs =  126\n",
      "nb_epochs =  127\n",
      "nb_epochs =  128\n",
      "nb_epochs =  129\n",
      "nb_epochs =  130\n",
      "nb_epochs =  131\n",
      "nb_epochs =  132\n",
      "nb_epochs =  133\n",
      "nb_epochs =  134\n",
      "nb_epochs =  135\n",
      "nb_epochs =  136\n",
      "nb_epochs =  137\n",
      "nb_epochs =  138\n",
      "nb_epochs =  139\n",
      "nb_epochs =  140\n",
      "nb_epochs =  141\n",
      "nb_epochs =  142\n",
      "nb_epochs =  143\n",
      "nb_epochs =  144\n",
      "nb_epochs =  145\n",
      "nb_epochs =  146\n",
      "nb_epochs =  147\n",
      "nb_epochs =  148\n",
      "nb_epochs =  149\n",
      "nb_epochs =  150\n",
      "nb_epochs =  151\n",
      "nb_epochs =  152\n",
      "nb_epochs =  153\n",
      "nb_epochs =  154\n",
      "nb_epochs =  155\n",
      "nb_epochs =  156\n",
      "nb_epochs =  157\n",
      "nb_epochs =  158\n",
      "nb_epochs =  159\n",
      "nb_epochs =  160\n",
      "nb_epochs =  161\n",
      "nb_epochs =  162\n",
      "nb_epochs =  163\n",
      "nb_epochs =  164\n",
      "nb_epochs =  165\n",
      "nb_epochs =  166\n",
      "nb_epochs =  167\n",
      "nb_epochs =  168\n",
      "nb_epochs =  169\n",
      "nb_epochs =  170\n",
      "nb_epochs =  171\n",
      "nb_epochs =  172\n",
      "nb_epochs =  173\n",
      "nb_epochs =  174\n",
      "nb_epochs =  175\n",
      "nb_epochs =  176\n",
      "nb_epochs =  177\n",
      "nb_epochs =  178\n",
      "nb_epochs =  179\n",
      "nb_epochs =  180\n",
      "nb_epochs =  181\n",
      "nb_epochs =  182\n",
      "nb_epochs =  183\n",
      "nb_epochs =  184\n",
      "nb_epochs =  185\n",
      "nb_epochs =  186\n",
      "nb_epochs =  187\n",
      "nb_epochs =  188\n",
      "nb_epochs =  189\n",
      "nb_epochs =  190\n",
      "nb_epochs =  191\n",
      "nb_epochs =  192\n",
      "nb_epochs =  193\n",
      "nb_epochs =  194\n",
      "nb_epochs =  195\n",
      "nb_epochs =  196\n",
      "nb_epochs =  197\n",
      "nb_epochs =  198\n",
      "nb_epochs =  199\n",
      "array.shape  =  (1, 5)\n",
      "array.shape  =  (1, 5)\n",
      "array.shape  =  (1, 5)\n",
      "array.shape  =  (1, 5)\n",
      "array.shape  =  (1, 5)\n",
      "array.shape  =  (1, 5)\n",
      "array.shape  =  (1, 5)\n",
      "array.shape  =  (1, 5)\n",
      "array.shape  =  (1, 5)\n",
      "array.shape  =  (1, 5)\n",
      "array.shape  =  (1, 5)\n",
      "array.shape  =  (1, 5)\n",
      "array.shape  =  (1, 5)\n",
      "array.shape  =  (1, 5)\n",
      "array.shape  =  (1, 5)\n",
      "array.shape  =  (1, 5)\n",
      "array.shape  =  (1, 5)\n",
      "array.shape  =  (1, 5)\n",
      "array.shape  =  (1, 5)\n",
      "array.shape  =  (1, 5)\n",
      "array.shape  =  (1, 5)\n",
      "array.shape  =  (1, 5)\n",
      "array.shape  =  (1, 5)\n",
      "array.shape  =  (1, 5)\n",
      "array.shape  =  (1, 5)\n",
      "array.shape  =  (1, 5)\n",
      "array.shape  =  (1, 5)\n",
      "array.shape  =  (1, 5)\n",
      "array.shape  =  (1, 5)\n",
      "array.shape  =  (1, 5)\n",
      "array.shape  =  (1, 5)\n",
      "array.shape  =  (1, 5)\n",
      "array.shape  =  (1, 5)\n",
      "array.shape  =  (1, 5)\n",
      "array.shape  =  (1, 5)\n",
      "array.shape  =  (1, 5)\n",
      "array.shape  =  (1, 5)\n",
      "array.shape  =  (1, 5)\n",
      "array.shape  =  (1, 5)\n",
      "array.shape  =  (1, 5)\n",
      "array.shape  =  (1, 5)\n",
      "array.shape  =  (1, 5)\n",
      "array.shape  =  (1, 5)\n",
      "array.shape  =  (1, 5)\n",
      "array.shape  =  (1, 5)\n",
      "array.shape  =  (1, 5)\n",
      "array.shape  =  (1, 5)\n",
      "array.shape  =  (1, 5)\n",
      "array.shape  =  (1, 5)\n",
      "array.shape  =  (1, 5)\n",
      "907.4098468131548  ,  [760.57642798]\n",
      "753.668175118799  ,  [815.55866086]\n",
      "832.3944679738802  ,  [793.61533944]\n",
      "784.1985812085904  ,  [718.59331408]\n",
      "729.3505197479438  ,  [723.26376585]\n",
      "725.1334499520946  ,  [736.31373893]\n",
      "724.4895613135136  ,  [765.71460036]\n",
      "726.5878626814347  ,  [772.05374186]\n",
      "734.8376720020481  ,  [817.95653664]\n",
      "805.3184406291875  ,  [730.98624639]\n",
      "729.4593975369752  ,  [690.86716265]\n",
      "725.512043038092  ,  [762.97234594]\n",
      "727.1906271034691  ,  [680.01336205]\n",
      "725.1935838218986  ,  [752.55611571]\n",
      "725.4364955077717  ,  [782.54573932]\n",
      "739.2175594780463  ,  [848.77764182]\n",
      "835.170621894202  ,  [704.07566933]\n",
      "728.4279654339882  ,  [799.96280162]\n",
      "742.2726800599193  ,  [665.69100876]\n",
      "725.448186444525  ,  [796.32010181]\n",
      "746.2943147789055  ,  [745.46238559]\n",
      "736.1717853090247  ,  [776.73222065]\n",
      "763.4902570189479  ,  [856.94571974]\n",
      "863.2061773284356  ,  [750.06700602]\n",
      "738.6283077512023  ,  [704.60486516]\n",
      "726.2793676918238  ,  [866.3720327]\n",
      "777.81487034136  ,  [763.26357007]\n",
      "739.4180796371555  ,  [826.18799863]\n",
      "820.665591121  ,  [798.72380207]\n",
      "773.9045688249508  ,  [854.96754931]\n",
      "878.1985680870222  ,  [780.44016446]\n",
      "756.0073287934904  ,  [746.38911458]\n",
      "727.3511319424717  ,  [812.71048896]\n",
      "753.7801419764847  ,  [685.12946013]\n",
      "726.2576966871104  ,  [674.7352063]\n",
      "725.2846559023789  ,  [767.73926876]\n",
      "729.5503904105669  ,  [930.32915667]\n",
      "769.5240952179772  ,  [782.74362488]\n",
      "732.6423738783815  ,  [785.9717586]\n",
      "725.3519183921544  ,  [711.98595272]\n",
      "724.6090686669913  ,  [675.10479174]\n",
      "724.6887349555172  ,  [968.00773335]\n",
      "725.8733373396251  ,  [856.60501199]\n",
      "727.5034626305737  ,  [818.37472468]\n",
      "726.7300548877995  ,  [779.11472762]\n",
      "724.1561478367579  ,  [789.15868044]\n",
      "724.7360056266172  ,  [790.50046498]\n",
      "726.4433417925459  ,  [865.48323626]\n",
      "771.0318141833264  ,  [952.01835446]\n",
      "882.0608227048235  ,  [1197.23944007]\n"
     ]
    },
    {
     "data": {
      "image/png": "[encoded data removed]",
      "text/plain": [
       "<Figure size 576x432 with 1 Axes>"
      ]
     },
     "metadata": {
      "tags": []
     },
     "output_type": "display_data"
    },
    {
     "name": "stdout",
     "output_type": "stream",
     "text": [
      "Test RMSE: 97.977\n",
      "Test log-MSE: 9.169\n",
      "Percentage difference: 9.281\n"
     ]
    }
   ],
   "source": [
    "from sklearn.preprocessing import StandardScaler,MinMaxScaler\n",
    "from keras.models import Sequential\n",
    "from keras.layers import Dense\n",
    "from keras.layers import LSTM\n",
    "from math import sqrt\n",
    "from sklearn.metrics import mean_squared_error\n",
    "\n",
    "window_size = 4\n",
    "\n",
    "nb=[200]\n",
    "df_train = extract_language(sum_col[\"ja\"])\n",
    "print(\"df_train = \",df_train.head())\n",
    "\n",
    "\n",
    "def percentage_diff(y_p,y_a):\n",
    "  error=0\n",
    "  for i in range(0,len(y_a)):\n",
    "    error = (error + (float(abs (y_p[i] - y_a [i])) / float(y_a[i]) * 100 ) )\n",
    "  error = error/ len(y_a)\n",
    "  return error\n",
    "\n",
    "\n",
    "for i in range(0,len(nb)):\n",
    "  \n",
    "    [X_train,y_train,X_test,y_test,train_data,test_data,scaler]=scaling_windowing(df_train,window_size)\n",
    "    lstm_model = fit_lstm(X_train,y_train, 1,nb[i], 4)\n",
    "    y_pred = prediction(lstm_model,X_test,scaler)\n",
    "    y_actual= list(test_data[:,window_size : window_size+1])\n",
    "    print_side_by_side(y_pred,y_actual)\n",
    "    plot_graphs(y_pred,y_actual)\n",
    "    rmse = sqrt(mean_squared_error(y_actual,y_pred))\n",
    "    log_mse = np.log(np.array(mean_squared_error(y_actual,y_pred)))\n",
    "    pdiff = percentage_diff(y_pred,y_actual)\n",
    "    print('Test RMSE: %.3f' % rmse)\n",
    "    print('Test log-MSE: %.3f' % log_mse)\n",
    "    print('Percentage difference: %.3f' % pdiff)\n",
    "    error_rmse.append(rmse)\n",
    "    error_log_mse.append(log_mse)\n",
    "    error_pd.append(pdiff)\n",
    "\n",
    "\n"
   ]
  },
  {
   "cell_type": "code",
   "execution_count": 0,
   "metadata": {
    "colab": {},
    "colab_type": "code",
    "id": "7-ZJSvfkAOKZ"
   },
   "outputs": [],
   "source": [
    "funcc=['tanh','sigmoid','relu','softmax']\n"
   ]
  },
  {
   "cell_type": "code",
   "execution_count": 0,
   "metadata": {
    "colab": {},
    "colab_type": "code",
    "id": "qgKgNKv4Kpn0"
   },
   "outputs": [],
   "source": [
    "8.279"
   ]
  },
  {
   "cell_type": "code",
   "execution_count": 195,
   "metadata": {
    "colab": {
     "base_uri": "https://localhost:8080/",
     "height": 367
    },
    "colab_type": "code",
    "id": "rEB3koZkEpVw",
    "outputId": "00702a81-0058-418d-af44-752ffaacc8fa"
   },
   "outputs": [
    {
     "data": {
      "text/plain": [
       "<BarContainer object of 4 artists>"
      ]
     },
     "execution_count": 195,
     "metadata": {
      "tags": []
     },
     "output_type": "execute_result"
    },
    {
     "data": {
      "image/png": "[encoded data removed]",
      "text/plain": [
       "<Figure size 360x360 with 1 Axes>"
      ]
     },
     "metadata": {
      "tags": []
     },
     "output_type": "display_data"
    }
   ],
   "source": [
    "nb=[1,2,3,4,5,6,7,8]\n",
    "\n",
    "\n",
    "fig = plot.figure(1,figsize=[5,5])\n",
    "plot.ylabel('Percentage Difference')\n",
    "plot.xlabel('Functions')\n",
    "plot.title('Percentage Difference vs Activation Functions ')\n",
    "plot.bar(funcc,error_pd,width=0.5,color='b')"
   ]
  },
  {
   "cell_type": "code",
   "execution_count": 106,
   "metadata": {
    "colab": {
     "base_uri": "https://localhost:8080/",
     "height": 355
    },
    "colab_type": "code",
    "id": "dIGBEYQ0CO7I",
    "outputId": "2808bd71-f388-4d69-85c6-e1f36563f705"
   },
   "outputs": [
    {
     "data": {
      "text/plain": [
       "[<matplotlib.lines.Line2D at 0x7fafc3d6eba8>]"
      ]
     },
     "execution_count": 106,
     "metadata": {
      "tags": []
     },
     "output_type": "execute_result"
    },
    {
     "data": {
      "image/png": "[encoded data removed]",
      "text/plain": [
       "<Figure size 720x360 with 1 Axes>"
      ]
     },
     "metadata": {
      "tags": []
     },
     "output_type": "display_data"
    }
   ],
   "source": [
    "fig = plot.figure(1,figsize=[10,5])\n",
    "plot.ylabel('RMSE')\n",
    "plot.xlabel('Number of Epochs')\n",
    "plot.plot(nb[2:len(nb)],error_rmse[2:len(nb)])\n",
    "  "
   ]
  },
  {
   "cell_type": "code",
   "execution_count": 110,
   "metadata": {
    "colab": {
     "base_uri": "https://localhost:8080/",
     "height": 352
    },
    "colab_type": "code",
    "id": "onx9JqAKpSDA",
    "outputId": "69a92d76-c917-43b9-f8a8-cbedc54b28f6"
   },
   "outputs": [
    {
     "data": {
      "text/plain": [
       "[<matplotlib.lines.Line2D at 0x7fafc3c5f128>]"
      ]
     },
     "execution_count": 110,
     "metadata": {
      "tags": []
     },
     "output_type": "execute_result"
    },
    {
     "data": {
      "image/png": "[encoded data removed]",
      "text/plain": [
       "<Figure size 720x360 with 1 Axes>"
      ]
     },
     "metadata": {
      "tags": []
     },
     "output_type": "display_data"
    }
   ],
   "source": [
    "fig = plot.figure(1,figsize=[10,5])\n",
    "plot.ylabel('Percentage Difference')\n",
    "plot.xlabel('Number of Epochs')\n",
    "plot.plot(nb[2:len(nb)-1],error_pd[2:len(nb)-1])\n",
    "  "
   ]
  },
  {
   "cell_type": "code",
   "execution_count": 112,
   "metadata": {
    "colab": {
     "base_uri": "https://localhost:8080/",
     "height": 352
    },
    "colab_type": "code",
    "id": "aQZyimaf_Jfm",
    "outputId": "03d03c7f-ea2d-4d50-854f-acb59b1c9566"
   },
   "outputs": [
    {
     "data": {
      "text/plain": [
       "[<matplotlib.lines.Line2D at 0x7fafc3b9d160>]"
      ]
     },
     "execution_count": 112,
     "metadata": {
      "tags": []
     },
     "output_type": "execute_result"
    },
    {
     "data": {
      "image/png": "[encoded data removed]",
      "text/plain": [
       "<Figure size 720x360 with 1 Axes>"
      ]
     },
     "metadata": {
      "tags": []
     },
     "output_type": "display_data"
    }
   ],
   "source": [
    "\n",
    "\n",
    "fig = plot.figure(1,figsize=[10,5])\n",
    "plot.ylabel('Log Mean Square Error')\n",
    "plot.xlabel('Number of Epochs')\n",
    "plot.plot(nb[2:len(nb)-1],error_log_mse[2:len(nb)-1] )"
   ]
  }
 ],
 "metadata": {
  "colab": {
   "collapsed_sections": [],
   "name": "lstm.ipynb",
   "provenance": [],
   "version": "0.3.2"
  },
  "kernelspec": {
   "display_name": "Python 2",
   "language": "python",
   "name": "python2"
  },
  "language_info": {
   "codemirror_mode": {
    "name": "ipython",
    "version": 2
   },
   "file_extension": ".py",
   "mimetype": "text/x-python",
   "name": "python",
   "nbconvert_exporter": "python",
   "pygments_lexer": "ipython2",
   "version": "2.7.15"
  }
 },
 "nbformat": 4,
 "nbformat_minor": 1
}
